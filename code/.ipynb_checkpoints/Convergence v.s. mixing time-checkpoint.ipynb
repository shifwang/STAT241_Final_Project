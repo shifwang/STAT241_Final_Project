{
 "cells": [
  {
   "cell_type": "markdown",
   "metadata": {},
   "source": [
    "# Simulation study"
   ]
  },
  {
   "cell_type": "markdown",
   "metadata": {
    "collapsed": false
   },
   "source": [
    "* The parallel function depends on module `ipyparallel`\n",
    "\n",
    "* Make sure you enable `IPython Clusters` tab in Jupyter Notebook:\n",
    "```bash\n",
    "ipcluster nbextension enable\n",
    "```"
   ]
  },
  {
   "cell_type": "markdown",
   "metadata": {},
   "source": [
    "# Example 1"
   ]
  },
  {
   "cell_type": "code",
   "execution_count": 13,
   "metadata": {
    "collapsed": false
   },
   "outputs": [
    {
     "data": {
      "text/plain": [
       "24"
      ]
     },
     "execution_count": 13,
     "metadata": {},
     "output_type": "execute_result"
    }
   ],
   "source": [
    "# %load example1.py\n",
    "import numpy as np\n",
    "import matplotlib.pyplot as plt\n",
    "import random\n",
    "import scipy as sp\n",
    "import statsmodels as sm\n",
    "\n",
    "plt.interactive(True)\n",
    "\n",
    "import ipyparallel\n",
    "\n",
    "import proof_of_concept as sgd_base\n",
    "import mixing\n",
    "import convergence\n",
    "import simulation\n",
    "# %run mixing\n",
    "# %run convergence\n",
    "%run simulation\n",
    "\n",
    "\n",
    "# EG1: f(x) = -x**4\n",
    "degree = 4\n",
    "def func(x, degree = degree):\n",
    "    return -np.power(x, degree)\n",
    "def grad(x, degree = degree):\n",
    "    return -degree * np.power(x, degree - 1)\n",
    "def station_func(x):\n",
    "    return np.exp(func(x))\n",
    "modes = [0]\n",
    "\n",
    "# trajectory, image, haltIter = sgd_base.GD(func, grad, initialPoint=1., stepsize=1e-2/2,\n",
    "#                                  noiseLevel=1e-1, maxIter=maxIter, desiredObj=100)\n",
    "# plt.hist(trajectory[haltIter/2:haltIter], 100)\n",
    "# ha = trajectory[haltIter/2:haltIter]\n",
    "\n",
    "# all_simu = simulation.simu_all_parallel(n_sim = 1e1, func = func, grad = grad, initialPoint=1., stepsize=1e-2/2, noiseLevel=1e-1, maxIter=int(1e5), desiredObj=100)\n",
    "all_traject = simu_all_parallel(n_sim = 1e2, func = func, grad = grad,\n",
    "                                initialPoint=1., stepsize=1e-2/2, noiseLevel=1e-1,\n",
    "                                 maxIter=int(1e5), desiredObj=100)\n",
    "# 100 n_sim = 1.25 min\n",
    "\n",
    "mix_time = mixing.mixing_time(all_trajectory = all_traject, station_func = station_func,\n",
    "                                 epsilon_norm=1e-1, a=-3, b=3, dx=.01)\n",
    "conv_time_all = convergence.convergence_time_all(all_trajectory = all_traject,\n",
    "                                                 modes = modes, epsilon_neighbor=1e-2)\n",
    "\n",
    "# raise warnings when not converge;\n",
    "# we thus need to increase 'maxIter'\n",
    "import warnings\n",
    "if any(conv_time_all < 0):\n",
    "    warnings.warn(str(sum(conv_time_all < 0)) + ' out of ' + str(len(conv_time_all)) + ' did not converge! The covergence time is smaller than actual!')\n",
    "conv_time_all = np.delete(conv_time_all, np.where(conv_time_all < 0))\n",
    "\n",
    "np.median(conv_time_all)\n",
    "mix_time\n"
   ]
  },
  {
   "cell_type": "code",
   "execution_count": 14,
   "metadata": {
    "collapsed": false
   },
   "outputs": [
    {
     "data": {
      "text/plain": [
       "array([  208.,   330.,    55.,   611.,   114.,    50.,   150.,    64.,\n",
       "          47.,   138.,   146.,    95.,   105.,   195.,    13.,   211.,\n",
       "          38.,    81.,   354.,   192.,   378.,    45.,    97.,    77.,\n",
       "         105.,    73.,   127.,    96.,    42.,    49.,   188.,    30.,\n",
       "          70.,    30.,    52.,   300.,   112.,   157.,    73.,   138.,\n",
       "         398.,   189.,    28.,   227.,    92.,   467.,   472.,    89.,\n",
       "         116.,   334.,   177.,   441.,    66.,   329.,    61.,    39.,\n",
       "         250.,  1200.,   102.,   264.,   104.,    61.,   337.,   170.,\n",
       "          41.,   237.,    95.,   130.,   299.,   283.,   280.,    82.,\n",
       "         121.,   149.,   228.,    65.,   150.,    70.,   733.,    26.,\n",
       "          39.,   203.,   162.,   254.,   103.,   134.,   224.,    53.,\n",
       "          52.,   456.,   216.,    88.,   175.,   127.,   157.,   103.,\n",
       "         431.,    49.,   105.])"
      ]
     },
     "execution_count": 14,
     "metadata": {},
     "output_type": "execute_result"
    }
   ],
   "source": [
    "conv_time_all"
   ]
  },
  {
   "cell_type": "code",
   "execution_count": 15,
   "metadata": {
    "collapsed": false
   },
   "outputs": [
    {
     "data": {
      "text/plain": [
       "127.0"
      ]
     },
     "execution_count": 15,
     "metadata": {},
     "output_type": "execute_result"
    }
   ],
   "source": [
    "np.median(conv_time_all)"
   ]
  },
  {
   "cell_type": "code",
   "execution_count": 16,
   "metadata": {
    "collapsed": false
   },
   "outputs": [
    {
     "data": {
      "text/plain": [
       "24"
      ]
     },
     "execution_count": 16,
     "metadata": {},
     "output_type": "execute_result"
    }
   ],
   "source": [
    "mix_time"
   ]
  },
  {
   "cell_type": "markdown",
   "metadata": {},
   "source": [
    "# Example 2"
   ]
  },
  {
   "cell_type": "code",
   "execution_count": 8,
   "metadata": {
    "collapsed": false
   },
   "outputs": [
    {
     "name": "stderr",
     "output_type": "stream",
     "text": [
      "/Users/wilsoncai/anaconda/lib/python3.4/site-packages/ipykernel/__main__.py:54: UserWarning: 12 out of 99 did not converge! The covergence time is smaller than actual!\n"
     ]
    },
    {
     "data": {
      "text/plain": [
       "17004"
      ]
     },
     "execution_count": 8,
     "metadata": {},
     "output_type": "execute_result"
    }
   ],
   "source": [
    "# %load example2.py\n",
    "import numpy as np\n",
    "import matplotlib.pyplot as plt\n",
    "import random\n",
    "import scipy as sp\n",
    "import statsmodels as sm\n",
    "\n",
    "plt.interactive(True)\n",
    "\n",
    "import ipyparallel\n",
    "\n",
    "import proof_of_concept as sgd_base\n",
    "import mixing\n",
    "import convergence\n",
    "import simulation\n",
    "# %run mixing\n",
    "# %run convergence\n",
    "%run simulation\n",
    "\n",
    "\n",
    "# EG2: f(x) = -(x ** 2 - 4)*(x ** 2 - 1) * c\n",
    "# \\hat f(x) == exp(c*f(x))\n",
    "c = 1\n",
    "def func(x, c = c):\n",
    "    return -(x ** 2 - 4)*(x ** 2 - 1) * c\n",
    "def grad(x, c = c):\n",
    "    return (-4 * x ** 3 + 10 * x) * c\n",
    "def station_func(x):\n",
    "    return np.exp(func(x))\n",
    "# mixing.graph(formula = func, x_range=range(-3, 5))\n",
    "modes = [-np.sqrt(2.5), np.sqrt(2.5)]\n",
    "\n",
    "\n",
    "# trajectory, image, haltIter = sgd_base.GD(func, grad, initialPoint=1., stepsize=1e-2/2,\n",
    "#                                  noiseLevel=1e-1, maxIter=maxIter, desiredObj=100)\n",
    "# plt.hist(trajectory[haltIter/2:haltIter], 100)\n",
    "# ha = trajectory[haltIter/2:haltIter]\n",
    "\n",
    "# all_simu = simulation.simu_all_parallel(n_sim = 1e1, func = func, grad = grad, initialPoint=1., stepsize=1e-2/2, noiseLevel=1e-1, maxIter=int(1e5), desiredObj=100)\n",
    "all_traject = simu_all_parallel(n_sim = 1e2, func = func, grad = grad,\n",
    "                                initialPoint=1., stepsize=1e-2/2, noiseLevel=1e-1,\n",
    "                                 maxIter=int(1e5), desiredObj=100)\n",
    "# 100 n_sim = 1.25 min\n",
    "\n",
    "mix_time = mixing.mixing_time(all_trajectory = all_traject, station_func = station_func,\n",
    "                                 epsilon_norm=1e-1, a=-3, b=3, dx=.01)\n",
    "conv_time_all = convergence.convergence_time_all(all_trajectory = all_traject,\n",
    "                                                 modes = modes, epsilon_neighbor=1e-2)\n",
    "\n",
    "# raise warnings when not converge;\n",
    "# we thus need to increase 'maxIter'\n",
    "import warnings\n",
    "if any(conv_time_all < 0):\n",
    "    warnings.warn(str(sum(conv_time_all < 0)) + ' out of ' + str(len(conv_time_all)) + ' did not converge! The covergence time is smaller than actual!')\n",
    "conv_time_all = np.delete(conv_time_all, np.where(conv_time_all < 0))\n",
    "\n",
    "np.median(conv_time_all)\n",
    "mix_time\n"
   ]
  },
  {
   "cell_type": "code",
   "execution_count": 12,
   "metadata": {
    "collapsed": false
   },
   "outputs": [
    {
     "data": {
      "text/plain": [
       "array([  6275.,  27391.,  25383.,  19200.,  79678.,  57362.,  12450.,\n",
       "        66545.,   2401.,  52012.,  45659.,  22751.,  13774.,  51028.,\n",
       "        16287.,  19688.,  14788.,  46197.,   1312.,  25900.,   8422.,\n",
       "        11496.,   8610.,  32512.,  13117.,  25618.,   8462.,  85072.,\n",
       "         5581.,  43040.,   1905.,  13752.,  21874.,  16404.,  69454.,\n",
       "        25155.,  76663.,  88560.,  18275.,  92686.,   2177.,  14392.,\n",
       "         6618.,  44505.,  47413.,   8177.,  35923.,   9904.,   6583.,\n",
       "        45888.,  18407.,   4795.,  55844.,   9580.,  39312.,  67579.,\n",
       "        15727.,   4993.,   9459.,  11054.,  11769.,  34259.,  82829.,\n",
       "        85364.,    854.,   3419.,  29041.,  19343.,  55218.,  38217.,\n",
       "        49973.,  17656.,  33314.,  50874.,  19036.,  24894.,  44628.,\n",
       "        94332.,  16941.,  58051.,  59460.,  49408.,  36499.,  45964.,\n",
       "         7280.,  89775.,  40927.])"
      ]
     },
     "execution_count": 12,
     "metadata": {},
     "output_type": "execute_result"
    }
   ],
   "source": [
    "conv_time_all"
   ]
  },
  {
   "cell_type": "code",
   "execution_count": 9,
   "metadata": {
    "collapsed": false
   },
   "outputs": [
    {
     "data": {
      "text/plain": [
       "25155.0"
      ]
     },
     "execution_count": 9,
     "metadata": {},
     "output_type": "execute_result"
    }
   ],
   "source": [
    "np.median(conv_time_all)"
   ]
  },
  {
   "cell_type": "code",
   "execution_count": 10,
   "metadata": {
    "collapsed": false
   },
   "outputs": [
    {
     "data": {
      "text/plain": [
       "17004"
      ]
     },
     "execution_count": 10,
     "metadata": {},
     "output_type": "execute_result"
    }
   ],
   "source": [
    "mix_time"
   ]
  },
  {
   "cell_type": "code",
   "execution_count": null,
   "metadata": {
    "collapsed": true
   },
   "outputs": [],
   "source": []
  }
 ],
 "metadata": {
  "kernelspec": {
   "display_name": "Python 3",
   "language": "python",
   "name": "python3"
  },
  "language_info": {
   "codemirror_mode": {
    "name": "ipython",
    "version": 3
   },
   "file_extension": ".py",
   "mimetype": "text/x-python",
   "name": "python",
   "nbconvert_exporter": "python",
   "pygments_lexer": "ipython3",
   "version": "3.4.4"
  }
 },
 "nbformat": 4,
 "nbformat_minor": 0
}
