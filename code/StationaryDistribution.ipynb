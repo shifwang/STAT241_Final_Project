{
 "cells": [
  {
   "cell_type": "code",
   "execution_count": 91,
   "metadata": {
    "collapsed": false
   },
   "outputs": [],
   "source": [
    "#Gradient Descent\n",
    "import numpy as np\n",
    "import matplotlib.pyplot as plt\n",
    "import random\n",
    "%matplotlib inline\n",
    "def GD(objective, gradient, initialPoint, stepsize, maxIter, burnin = 1000, wait = 1000, \n",
    "       seed = None,\n",
    "       verbose = True):\n",
    "    '''\n",
    "    Perform stochastic gradient descent to maximize objective.\n",
    "    \n",
    "    Args:\n",
    "    objective    - function handle, return objective\n",
    "    gradient     - function handle, return gradient\n",
    "    initialPoint - array of dimension d, starting point\n",
    "    stepsize     - numeric, \n",
    "    burnin       - numeric, burnin period\n",
    "    wait         - numeric, waiting period\n",
    "    maxIter      - integer, the iterations\n",
    "    seed         - integer, seed\n",
    "    verbose      - boolean, whether to print intermediate results\n",
    "    \n",
    "    Returns:\n",
    "    trajectory   - 2d array of (maxIter - burnin)/wait * d, the record of x\n",
    "    '''\n",
    "    if isinstance(initialPoint, float):\n",
    "        d = 1\n",
    "    else:\n",
    "        d = len(initialPoint)\n",
    "    rng = random.Random()\n",
    "    if seed is not None:\n",
    "        rng.seed(seed)\n",
    "    trajectory = np.zeros(((maxIter - burnin)//wait, d))\n",
    "    x          = initialPoint\n",
    "    trajectory[0] = x\n",
    "    ind = 0\n",
    "    for iter in range(1, maxIter):\n",
    "        noise = rng.normalvariate(0, np.sqrt(stepsize*2))\n",
    "        x = x + stepsize * gradient(x) + noise\n",
    "        if iter >= burnin and (iter - burnin) % wait == 0:\n",
    "            trajectory[ind] = x\n",
    "            ind += 1\n",
    "    return trajectory"
   ]
  },
  {
   "cell_type": "code",
   "execution_count": null,
   "metadata": {
    "collapsed": false
   },
   "outputs": [],
   "source": [
    "def ProofOfConcept():\n",
    "    '''\n",
    "    Show SGD's stationary point can indeed approximate the objective function\n",
    "    \n",
    "    '''\n",
    "    degree = 4\n",
    "    def func(x):\n",
    "        return -np.power(x, degree)\n",
    "    def grad(x):\n",
    "        return -degree * np.power(x, degree - 1)\n",
    "    trajectory = GD(func, grad, initialPoint=1., stepsize=0.005, maxIter=int(1e8))\n",
    "    #plt.figure()\n",
    "    #plt.plot(trajectory[0:haltIter], image[0:haltIter])\n",
    "    #plt.figure()\n",
    "    #plt.hist(trajectory[haltIter/2:haltIter], 100)\n",
    "    #plt.figure()\n",
    "    #x = np.arange(-2, 2, 1e-3)\n",
    "    #plt.plot(x, np.exp(func(x)))\n",
    "    MyPlot(trajectory[0:int(1e3)], func)\n",
    "    MyPlot(trajectory[0:int(1e4)], func)\n",
    "    MyPlot(trajectory[0:int(1e5)], func)\n",
    "ProofOfConcept()"
   ]
  },
  {
   "cell_type": "code",
   "execution_count": 100,
   "metadata": {
    "collapsed": false
   },
   "outputs": [],
   "source": [
    "import matplotlib\n",
    "from matplotlib.ticker import FuncFormatter\n",
    "def to_percent(y, position):\n",
    "    # Ignore the passed in position. This has the effect of scaling the default\n",
    "    # tick locations.\n",
    "    s = str(100 * y)\n",
    "\n",
    "    # The percent symbol needs escaping in latex\n",
    "    if matplotlib.rcParams['text.usetex'] is True:\n",
    "        return s + r'$\\%$'\n",
    "    else:\n",
    "        return s + '%'\n",
    "formatter = FuncFormatter(to_percent)\n",
    "def MyPlot(trajectory, func, burnin = 1, wait = 1, binwidth = 1e-2):\n",
    "    n = len(trajectory)\n",
    "    x1, y1 = sample2cdf(trajectory[np.arange(burnin, n, wait)])\n",
    "    x = np.arange(min(x1), max(x1), binwidth)\n",
    "    plt.plot(x, density2cdf(np.exp(func(x))), 'r', x1, y1)\n",
    "    plt.figure()\n",
    "    weights = np.ones_like(x1)/len(x1)\n",
    "    plt.hist(x1, normed=False, weights=weights, bins=np.arange(min(x1), max(x1), binwidth), color='c', histtype='stepfilled', alpha = 0.5)\n",
    "    plt.plot(x, np.exp(func(x)) / np.sum(np.exp(func(x))), color = 'b', linewidth = 2.0)\n",
    "    # Set the formatter\n",
    "    plt.gca().yaxis.set_major_formatter(formatter)\n",
    "    plt.show()"
   ]
  },
  {
   "cell_type": "code",
   "execution_count": 49,
   "metadata": {
    "collapsed": false
   },
   "outputs": [
    {
     "name": "stdout",
     "output_type": "stream",
     "text": [
      "Did not converge while max iteration reached 99999999\n"
     ]
    },
    {
     "data": {
      "image/png": "[encoded data removed]",
      "text/plain": [
       "<matplotlib.figure.Figure at 0x7f95780a5518>"
      ]
     },
     "metadata": {},
     "output_type": "display_data"
    }
   ],
   "source": [
    "def ProofOfConcept2():\n",
    "    '''\n",
    "    Show SGD's stationary point can indeed approximate the objective function\n",
    "    \n",
    "    '''\n",
    "    c = 1\n",
    "    def func(x):\n",
    "        return -(x ** 2 - 4)*(x ** 2 - 1) * c\n",
    "    def grad(x):\n",
    "        return (-4 * x ** 3 + 10 * x) * c\n",
    "    trajectory, image, haltIter = GD(func, grad, initialPoint=1., stepsize=0.005, \n",
    "                                     noiseLevel=np.sqrt(.01), maxIter=int(1e8), desiredObj=100)\n",
    "    #plt.figure()\n",
    "    #plt.plot(trajectory[0:haltIter], image[0:haltIter])\n",
    "    x1, y1 = sample2cdf(trajectory[np.arange(haltIter//1000, haltIter, 100)])\n",
    "    x = np.arange(min(x1), max(x1), 1e-3)\n",
    "    plt.plot(x, density2cdf(np.exp(func(x))), 'r', x1, y1)\n",
    "\n",
    "ProofOfConcept2()"
   ]
  },
  {
   "cell_type": "code",
   "execution_count": 13,
   "metadata": {
    "collapsed": true
   },
   "outputs": [],
   "source": [
    "def density2cdf(density):\n",
    "    '''\n",
    "    Transform a density to a cdf\n",
    "    '''\n",
    "    tmp = np.cumsum(density)\n",
    "    return tmp/tmp[-1]"
   ]
  },
  {
   "cell_type": "code",
   "execution_count": 23,
   "metadata": {
    "collapsed": true
   },
   "outputs": [],
   "source": [
    "def sample2cdf(samples, nbins = 1000):\n",
    "    '''\n",
    "    Transform a sample set to a cdf\n",
    "    '''\n",
    "    mysorted = np.sort(samples, axis = None)\n",
    "    n = len(samples)\n",
    "    return(mysorted, np.linspace(1.0/n, 1, n ))\n",
    "    "
   ]
  },
  {
   "cell_type": "code",
   "execution_count": 67,
   "metadata": {
    "collapsed": false
   },
   "outputs": [
    {
     "name": "stdout",
     "output_type": "stream",
     "text": [
      "Did not converge while max iteration reached 999999\n"
     ]
    },
    {
     "data": {
      "image/png": "[encoded data removed]",
      "text/plain": [
       "<matplotlib.figure.Figure at 0x7f956cd9b550>"
      ]
     },
     "metadata": {},
     "output_type": "display_data"
    },
    {
     "data": {
      "image/png": "[encoded data removed]",
      "text/plain": [
       "<matplotlib.figure.Figure at 0x7f956cd181d0>"
      ]
     },
     "metadata": {},
     "output_type": "display_data"
    }
   ],
   "source": [
    "def GD_UnitTest(order = 1):\n",
    "    '''\n",
    "    Unit test for GD for polynomial functions\n",
    "    '''\n",
    "    def func(x):\n",
    "        return -np.power(np.abs(x), order)\n",
    "    def grad(x):\n",
    "        return -order * np.sign(x) * np.power(abs(x), order - 1)\n",
    "    trajectory, image, haltIter = GD(func, grad, initialPoint=1e-3, stepsize=1e-2/2, \n",
    "                                     noiseLevel=1e-1, maxIter=int(1e6), desiredObj=1000)\n",
    "    x1, y1 = sample2cdf(trajectory[np.arange(haltIter//1000, haltIter, 100)])\n",
    "    x = np.arange(min(x1), max(x1), 1e-3)\n",
    "    #print(min(x1), max(x1))\n",
    "    plt.plot(x, density2cdf(np.exp(func(x))), 'r', x1, y1)\n",
    "    plt.show()\n",
    "    plt.figure()\n",
    "    binwidth = .1\n",
    "    plt.hist(x1, normed=False, bins=np.arange(min(x1), max(x1), binwidth), color='c', histtype='stepfilled', alpha = 0.5)\n",
    "    plt.plot(x, np.exp(func(x)) * binwidth * len(x1)/2, color = 'b', linewidth = 2.0)\n",
    "    plt.show()\n",
    "GD_UnitTest(order = 1)"
   ]
  },
  {
   "cell_type": "code",
   "execution_count": null,
   "metadata": {
    "collapsed": true
   },
   "outputs": [],
   "source": []
  }
 ],
 "metadata": {
  "anaconda-cloud": {},
  "kernelspec": {
   "display_name": "Python 3",
   "language": "python",
   "name": "python3"
  },
  "language_info": {
   "codemirror_mode": {
    "name": "ipython",
    "version": 3
   },
   "file_extension": ".py",
   "mimetype": "text/x-python",
   "name": "python",
   "nbconvert_exporter": "python",
   "pygments_lexer": "ipython3",
   "version": "3.5.2"
  }
 },
 "nbformat": 4,
 "nbformat_minor": 1
}
