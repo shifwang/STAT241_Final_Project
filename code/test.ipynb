{
 "cells": [
  {
   "cell_type": "code",
   "execution_count": 2,
   "metadata": {
    "collapsed": false
   },
   "outputs": [],
   "source": [
    "import numpy as np\n",
    "import matplotlib.pyplot as plt\n",
    "import random\n",
    "import scipy as sp\n",
    "import statsmodels as sm\n",
    "\n",
    "plt.interactive(True)\n",
    "\n",
    "import ipyparallel\n",
    "\n",
    "import proof_of_concept as sgd_base\n",
    "import mixing\n",
    "import convergence\n",
    "import simulation\n",
    "# %run mixing\n",
    "# %run convergence\n",
    "%run simulation\n",
    "\n",
    "\n",
    "# EG1: f(x) = -x**4\n",
    "degree = 4\n",
    "def func(x, degree = degree):\n",
    "    return -np.power(x, degree)\n",
    "def grad(x, degree = degree):\n",
    "    return -degree * np.power(x, degree - 1)\n",
    "def station_func(x):\n",
    "    return np.exp(func(x))\n",
    "modes = [0]\n",
    "\n",
    "# trajectory, image, haltIter = sgd_base.GD(func, grad, initialPoint=1., stepsize=1e-2/2,\n",
    "#                                  noiseLevel=1e-1, maxIter=maxIter, desiredObj=100)\n",
    "# plt.hist(trajectory[haltIter/2:haltIter], 100)\n",
    "# ha = trajectory[haltIter/2:haltIter]\n",
    "\n",
    "# all_simu = simulation.simu_all_parallel(n_sim = 1e1, func = func, grad = grad, initialPoint=1., stepsize=1e-2/2, noiseLevel=1e-1, maxIter=int(1e5), desiredObj=100)\n",
    "all_traject = simu_all_parallel(n_sim = 1e2, func = func, grad = grad,\n",
    "                                initialPoint=1., stepsize=1e-2/2, noiseLevel=1e-1,\n",
    "                                 maxIter=int(1e5), desiredObj=100)\n",
    "# 100 n_sim = 1.25 min"
   ]
  },
  {
   "cell_type": "code",
   "execution_count": 3,
   "metadata": {
    "collapsed": false
   },
   "outputs": [
    {
     "data": {
      "text/plain": [
       "30"
      ]
     },
     "execution_count": 3,
     "metadata": {},
     "output_type": "execute_result"
    }
   ],
   "source": [
    "mix_time = mixing.mixing_time(all_trajectory = all_traject, station_func = station_func,\n",
    "                                 epsilon_norm=1e-1, a=-3, b=3, dx=.01)\n",
    "conv_time_all = convergence.convergence_time_all(all_trajectory = all_traject,\n",
    "                                                 modes = modes, epsilon_neighbor=1e-2)\n",
    "\n",
    "# raise warnings when not converge;\n",
    "# we thus need to increase 'maxIter'\n",
    "import warnings\n",
    "if any(conv_time_all < 0):\n",
    "    warnings.warn(str(sum(conv_time_all < 0)) + ' out of ' + str(len(conv_time_all)) + ' did not converge! The covergence time is smaller than actual!')\n",
    "conv_time_all = np.delete(conv_time_all, np.where(conv_time_all < 0))\n",
    "\n",
    "np.median(conv_time_all)\n",
    "mix_time\n"
   ]
  },
  {
   "cell_type": "code",
   "execution_count": null,
   "metadata": {
    "collapsed": true
   },
   "outputs": [],
   "source": []
  }
 ],
 "metadata": {
  "anaconda-cloud": {},
  "kernelspec": {
   "display_name": "Python 3",
   "language": "python",
   "name": "python3"
  },
  "language_info": {
   "codemirror_mode": {
    "name": "ipython",
    "version": 3
   },
   "file_extension": ".py",
   "mimetype": "text/x-python",
   "name": "python",
   "nbconvert_exporter": "python",
   "pygments_lexer": "ipython3",
   "version": "3.5.2"
  }
 },
 "nbformat": 4,
 "nbformat_minor": 0
}
