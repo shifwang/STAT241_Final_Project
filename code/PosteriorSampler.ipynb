{
 "cells": [
  {
   "cell_type": "code",
   "execution_count": 1,
   "metadata": {
    "collapsed": false
   },
   "outputs": [],
   "source": [
    "#SGD posterior sampler\n",
    "import numpy as np\n",
    "from scipy.linalg import sqrtm\n",
    "from numpy.linalg import inv\n",
    "import matplotlib.pyplot as plt\n",
    "import random\n",
    "%matplotlib inline\n",
    "def PosteriorSampling(data, loglikelihood, gradient, initialPoint, K, maxIter, burnin = 1000, wait = 1000, \n",
    "       seed = None, verbose = True):\n",
    "    '''\n",
    "    Perform stochastic gradient descent to maximize objective.\n",
    "    \n",
    "    Args:\n",
    "    data             - 2d array of n * m, a set of samples\n",
    "    loglikelihood    - function handle, return log likelihood log p(X|theta)\n",
    "    gradient         - function handle, return gradient of log likelihood\n",
    "    initialPoint     - array of dimension d, starting point\n",
    "    K                - integer, subsampling size\n",
    "    burnin           - numeric, burnin period\n",
    "    wait             - numeric, waiting period\n",
    "    maxIter          - integer, the iterations\n",
    "    seed             - integer, seed\n",
    "    verbose          - boolean, whether to print intermediate results\n",
    "    \n",
    "    Returns:\n",
    "    trajectory   - 2d array of (maxIter - burnin)/wait * d, the record of x\n",
    "    '''\n",
    "    if isinstance(initialPoint, float):\n",
    "        d = 1\n",
    "    else:\n",
    "        d = len(initialPoint)\n",
    "    n, m = np.shape(data) #n is total number of samples, m is their dimension\n",
    "    if seed is not None:\n",
    "        np.random.seed(seed)\n",
    "    trajectory = np.zeros(((maxIter - burnin)//wait, d))\n",
    "    theta      = initialPoint\n",
    "    ind = 0\n",
    "    for iter in range(1, maxIter):\n",
    "        candidates = np.random.choice(n, K, replace = True)\n",
    "        #grads = np.zeros((K, d))\n",
    "        #for i in range(K):\n",
    "            #print(i, data[candidates[i],:], len(data[candidates[i],:]), theta, gradient(data[candidates[i],:], theta))\n",
    "            #grads[i,:] = np.reshape(gradient(data[candidates[i],:], theta), (-1,))\n",
    "        grads = calc_grad(data, theta, candidates)\n",
    "        mean = np.mean(grads, axis = 0)\n",
    "        covM = np.cov(grads, rowvar=False)\n",
    "        #print(theta)\n",
    "        #plt.hist(grads[:,0])\n",
    "        #plt.show()\n",
    "        # stepsize = 2 * K * inv(covM)\n",
    "        theta = theta + 2 * np.dot(inv(covM), mean)\n",
    "        if theta[1] < 1e-1:\n",
    "            theta[1] = 1e-1\n",
    "        if theta[1] > 1.9:\n",
    "            theta[1] = 1.9\n",
    "        #print(iter, theta)\n",
    "        if iter >= burnin and (iter - burnin) % wait == 0:\n",
    "            trajectory[ind] = theta\n",
    "            ind += 1\n",
    "    return trajectory"
   ]
  },
  {
   "cell_type": "code",
   "execution_count": 174,
   "metadata": {
    "collapsed": false
   },
   "outputs": [],
   "source": [
    "\n",
    "theta = np.asarray([0, 1])\n",
    "data = np.reshape(np.random.randn(1000), (-1, 1))\n",
    "K = 100\n",
    "d = 2\n",
    "candidates = np.random.choice(1000, K, replace = True)\n",
    "gradient      = lambda x, coef: np.reshape(np.asarray([2 * (x - coef[0]) / coef[1], (x - coef[0])**2 / coef[1]** 2 - 1/coef[1]]), (-1,1))\n",
    "calc_grad(data, theta, candidates)\n",
    "grads = np.zeros((K, d))\n",
    "for i in range(K):\n",
    "            #print(i, data[candidates[i],:], len(data[candidates[i],:]), theta, gradient(data[candidates[i],:], theta))\n",
    "            grads[i,:] = np.reshape(gradient(data[candidates[i],:], theta), (-1,))"
   ]
  },
  {
   "cell_type": "code",
   "execution_count": 37,
   "metadata": {
    "collapsed": false
   },
   "outputs": [
    {
     "name": "stdout",
     "output_type": "stream",
     "text": [
      "-0.0101682144461 0.950840421863\n",
      "999\n"
     ]
    },
    {
     "name": "stderr",
     "output_type": "stream",
     "text": [
      "/home/yu/anaconda3/lib/python3.5/site-packages/ipykernel/__main__.py:20: VisibleDeprecationWarning: using a non-integer number instead of an integer will result in an error in the future\n"
     ]
    },
    {
     "data": {
      "image/png": "[encoded data removed]",
      "text/plain": [
       "<matplotlib.figure.Figure at 0x7fe25901e7f0>"
      ]
     },
     "metadata": {},
     "output_type": "display_data"
    },
    {
     "data": {
      "image/png": "[encoded data removed]",
      "text/plain": [
       "<matplotlib.figure.Figure at 0x7fe258c5ddd8>"
      ]
     },
     "metadata": {},
     "output_type": "display_data"
    }
   ],
   "source": [
    "def calc_grad(data, theta, candidates):\n",
    "    mu = theta[0]\n",
    "    sigma2 = theta[1]\n",
    "    out1 = (data[candidates,:] - mu) / sigma2 * 2\n",
    "    out2 = out1**2/4 - 1/sigma2\n",
    "    grads = np.column_stack((out1, out2))\n",
    "    return grads\n",
    "def loglikelihood(data, theta):\n",
    "    out1 = - (data - theta[0]) ** 2 / theta[1] - np.log(theta[1])\n",
    "    return(out1)\n",
    "    \n",
    "def PosteriorSampling_UnitTest1():\n",
    "    #loglikelihood = lambda x, coef: -(x - coef[0]) ** 2 / coef[1] - np.log(coef[1])\n",
    "    #gradient      = lambda x, coef: np.reshape(np.asarray([2 * (x - coef[0]) / coef[1], (x - coef[0])**2 / coef[1]** 2 - 1/coef[1]]), (-1,1))\n",
    "    data = np.reshape(np.concatenate([np.random.randn(500),np.random.randn(500) + 0]), (-1, 1))\n",
    "    print(np.mean(data), np.var(data))\n",
    "    output = PosteriorSampling(data, loglikelihood, calc_grad, np.asarray([0, 1]), 1000, int(1e6))\n",
    "    print(len(output))\n",
    "    plt.figure()\n",
    "    plt.hist2d(output[0:1e3, 0], output[:1e3, 1], bins=40, cmap='afmhot')\n",
    "    #plt.colorbar()\n",
    "    plt.show()\n",
    "    xmin = min(output[:, 0])\n",
    "    xmax = max(output[:, 0])\n",
    "    ymin = min(output[:, 1])\n",
    "    ymax = max(output[:, 1])\n",
    "    n = 100\n",
    "    xaxis = np.linspace(xmin, xmax, n)\n",
    "    yaxis = np.linspace(ymin, ymax, n)\n",
    "    #print(xaxis, yaxis)\n",
    "    density = np.zeros((n, n))\n",
    "    for i in range(n):\n",
    "        for j in range(n):\n",
    "            density[n -1 - j, i] = np.mean(loglikelihood(data, [xaxis[i], yaxis[j]]))\n",
    "    #print(np.max(density, axis = (0, 1)))\n",
    "    dmin = np.min(density, axis=(0, 1))\n",
    "    dmax = np.max(density, axis=(0, 1))\n",
    "    plt.imshow(density, extent = (xmin, xmax, ymin, ymax), cmap='afmhot', interpolation='nearest', aspect='auto', vmin=dmin, vmax=2 * dmax - dmin)\n",
    "    plt.show()\n",
    "PosteriorSampling_UnitTest1()"
   ]
  },
  {
   "cell_type": "code",
   "execution_count": 183,
   "metadata": {
    "collapsed": false
   },
   "outputs": [
    {
     "data": {
      "text/plain": [
       "array([ 0.02077697])"
      ]
     },
     "execution_count": 183,
     "metadata": {},
     "output_type": "execute_result"
    }
   ],
   "source": [
    "np.cov([[1, 2], [3, 4], [6, 3]], rowvar=False)\n",
    "a = np.zeros((2, 2))\n",
    "a[1,:] = np.asarray([1, 2])\n",
    "np.reshape([[1], [2]], (2, ))\n",
    "np.random.randn(1)/np.sqrt(1000)"
   ]
  },
  {
   "cell_type": "code",
   "execution_count": 188,
   "metadata": {
    "collapsed": false
   },
   "outputs": [
    {
     "data": {
      "text/plain": [
       "array([1, 3, 4])"
      ]
     },
     "execution_count": 188,
     "metadata": {},
     "output_type": "execute_result"
    }
   ],
   "source": [
    "np.concatenate([[1, 3], [4]])"
   ]
  },
  {
   "cell_type": "code",
   "execution_count": 17,
   "metadata": {
    "collapsed": false
   },
   "outputs": [
    {
     "data": {
      "text/plain": [
       "<matplotlib.colorbar.Colorbar at 0x7fe258f485c0>"
      ]
     },
     "execution_count": 17,
     "metadata": {},
     "output_type": "execute_result"
    },
    {
     "data": {
      "image/png": "[encoded data removed]",
      "text/plain": [
       "<matplotlib.figure.Figure at 0x7fe258ee2898>"
      ]
     },
     "metadata": {},
     "output_type": "display_data"
    }
   ],
   "source": [
    "img = [[1, 2], [0, 3]]\n",
    "plt.imshow(img)\n",
    "plt.colorbar()"
   ]
  },
  {
   "cell_type": "code",
   "execution_count": null,
   "metadata": {
    "collapsed": true
   },
   "outputs": [],
   "source": []
  }
 ],
 "metadata": {
  "anaconda-cloud": {},
  "kernelspec": {
   "display_name": "Python 3",
   "language": "python",
   "name": "python3"
  },
  "language_info": {
   "codemirror_mode": {
    "name": "ipython",
    "version": 3
   },
   "file_extension": ".py",
   "mimetype": "text/x-python",
   "name": "python",
   "nbconvert_exporter": "python",
   "pygments_lexer": "ipython3",
   "version": "3.5.2"
  }
 },
 "nbformat": 4,
 "nbformat_minor": 0
}
